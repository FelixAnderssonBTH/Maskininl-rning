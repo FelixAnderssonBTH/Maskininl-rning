{
 "cells": [
  {
   "cell_type": "code",
   "execution_count": null,
   "metadata": {},
   "outputs": [],
   "source": [
    "'''Felix Andersson, Janine de Vries, DV2626'''\n",
    "\n",
    "import pandas as pd\n",
    "from sklearn.model_selection import train_test_split, RepeatedKFold, cross_val_score, StratifiedKFold\n",
    "from sklearn.svm import SVC\n",
    "from sklearn.ensemble import RandomForestClassifier\n",
    "from sklearn.neighbors import KNeighborsClassifier\n",
    "from sklearn.metrics import accuracy_score, f1_score\n",
    "import numpy as np\n",
    "import time"
   ]
  },
  {
   "cell_type": "code",
   "execution_count": null,
   "metadata": {},
   "outputs": [],
   "source": [
    "spam_data = pd.read_csv('spambase.data', delimiter=',')\n",
    "spam_data.head()\n",
    "spam_data.drop_duplicates(inplace=True)\n",
    "\n",
    "x = spam_data.iloc[:, :-1]\n",
    "y = spam_data.iloc[:, -1]\n",
    "#X_train, X_test, y_train, y_test = train_test_split(x, y, test_size=0.2, random_state=42)\n",
    "\n",
    "\n",
    "print(\"X:\\n\", x.head())  \n",
    "print(\"Y:\\n\", y.head())"
   ]
  }
 ],
 "metadata": {
  "language_info": {
   "name": "python"
  }
 },
 "nbformat": 4,
 "nbformat_minor": 2
}
