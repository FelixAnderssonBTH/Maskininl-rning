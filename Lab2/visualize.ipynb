{
 "cells": [
  {
   "cell_type": "code",
   "execution_count": null,
   "metadata": {},
   "outputs": [],
   "source": [
    "'''Felix Andersson, Janine de Vries, DV2626'''\n",
    "\n",
    "import pandas as pd\n",
    "from sklearn.model_selection import train_test_split, RepeatedKFold, cross_val_score\n",
    "from sklearn.svm import SVC\n",
    "from sklearn.ensemble import RandomForestClassifier\n",
    "from sklearn.neighbors import KNeighborsClassifier\n",
    "from sklearn.metrics import accuracy_score, f1_score\n",
    "import numpy as np\n",
    "import time\n"
   ]
  },
  {
   "cell_type": "code",
   "execution_count": null,
   "metadata": {},
   "outputs": [
    {
     "name": "stdout",
     "output_type": "stream",
     "text": [
      "X:\n",
      "       0  0.64  0.64.1  0.1  0.32   0.2   0.3   0.4   0.5   0.6  ...  0.40  \\\n",
      "0  0.21  0.28    0.50  0.0  0.14  0.28  0.21  0.07  0.00  0.94  ...   0.0   \n",
      "1  0.06  0.00    0.71  0.0  1.23  0.19  0.19  0.12  0.64  0.25  ...   0.0   \n",
      "2  0.00  0.00    0.00  0.0  0.63  0.00  0.31  0.63  0.31  0.63  ...   0.0   \n",
      "3  0.00  0.00    0.00  0.0  0.63  0.00  0.31  0.63  0.31  0.63  ...   0.0   \n",
      "4  0.00  0.00    0.00  0.0  1.85  0.00  0.00  1.85  0.00  0.00  ...   0.0   \n",
      "\n",
      "   0.41   0.42  0.43  0.778   0.44   0.45  3.756   61   278  \n",
      "0  0.00  0.132   0.0  0.372  0.180  0.048  5.114  101  1028  \n",
      "1  0.01  0.143   0.0  0.276  0.184  0.010  9.821  485  2259  \n",
      "2  0.00  0.137   0.0  0.137  0.000  0.000  3.537   40   191  \n",
      "3  0.00  0.135   0.0  0.135  0.000  0.000  3.537   40   191  \n",
      "4  0.00  0.223   0.0  0.000  0.000  0.000  3.000   15    54  \n",
      "\n",
      "[5 rows x 57 columns]\n",
      "Y:\n",
      " 0    1\n",
      "1    1\n",
      "2    1\n",
      "3    1\n",
      "4    1\n",
      "Name: 1, dtype: int64\n"
     ]
    }
   ],
   "source": [
    "spam_data = pd.read_csv('spambase.data', delimiter=',')\n",
    "spam_data.head()\n",
    "spam_data.drop_duplicates(inplace=True)\n",
    "\n",
    "x = spam_data.iloc[:, :-1]\n",
    "y = spam_data.iloc[:, -1]\n",
    "X_train, X_test, y_train, y_test = train_test_split(X, y, test_size=0.2, random_state=42)\n",
    "\n",
    "\n",
    "#X_train, X_test, y_train, y_test = train_test_split(X, y, test_size=0.2, shuffle=True, random_state=None)\n",
    "print(\"X:\\n\", x.head())  # Print the first few rows of X\n",
    "print(\"Y:\\n\", y.head())  # Print the first few rows of Y"
   ]
  },
  {
   "cell_type": "code",
   "execution_count": null,
   "metadata": {},
   "outputs": [],
   "source": [
    "svm = SVC()\n",
    "\n",
    "# Measure training time for SVM\n",
    "start_time = time.time()\n",
    "svm.fit(X_train, y_train)\n",
    "svm_training_time = time.time() - start_time\n",
    "\n",
    "# Predict on the test set\n",
    "svm_pred = svm.predict(X_test)\n",
    "\n",
    "# Calculate accuracy and F-measure\n",
    "svm_accuracy = accuracy_score(y_test, svm_pred)\n",
    "svm_f1_score = f1_score(y_test, svm_pred, average='weighted')\n",
    "\n",
    "print(f\"SVM Training Time: {svm_training_time:.4f} seconds\")\n",
    "print(f\"SVM Accuracy: {svm_accuracy:.4f}\")\n",
    "print(f\"SVM F1 Score: {svm_f1_score:.4f}\")"
   ]
  },
  {
   "cell_type": "code",
   "execution_count": null,
   "metadata": {},
   "outputs": [],
   "source": [
    "rf = RandomForestClassifier()\n",
    "\n",
    "# Measure training time for Random Forest\n",
    "start_time = time.time()\n",
    "rf.fit(X_train, y_train)\n",
    "rf_training_time = time.time() - start_time\n",
    "\n",
    "# Predict on the test set\n",
    "rf_pred = rf.predict(X_test)\n",
    "\n",
    "# Calculate accuracy and F-measure\n",
    "rf_accuracy = accuracy_score(y_test, rf_pred)\n",
    "rf_f1_score = f1_score(y_test, rf_pred, average='weighted')\n",
    "\n",
    "print(f\"Random Forest Training Time: {rf_training_time:.4f} seconds\")\n",
    "print(f\"Random Forest Accuracy: {rf_accuracy:.4f}\")\n",
    "print(f\"Random Forest F1 Score: {rf_f1_score:.4f}\")"
   ]
  },
  {
   "cell_type": "code",
   "execution_count": null,
   "metadata": {},
   "outputs": [],
   "source": [
    "# Initialize the KNN model\n",
    "knn = KNeighborsClassifier()\n",
    "\n",
    "# Measure training time for KNN\n",
    "start_time = time.time()\n",
    "knn.fit(X_train, y_train)\n",
    "knn_training_time = time.time() - start_time\n",
    "\n",
    "# Predict on the test set\n",
    "knn_pred = knn.predict(X_test)\n",
    "\n",
    "# Calculate accuracy and F-measure\n",
    "knn_accuracy = accuracy_score(y_test, knn_pred)\n",
    "knn_f1_score = f1_score(y_test, knn_pred, average='weighted')\n",
    "\n",
    "print(f\"KNN Training Time: {knn_training_time:.4f} seconds\")\n",
    "print(f\"KNN Accuracy: {knn_accuracy:.4f}\")\n",
    "print(f\"KNN F1 Score: {knn_f1_score:.4f}\")"
   ]
  },
  {
   "cell_type": "code",
   "execution_count": null,
   "metadata": {},
   "outputs": [],
   "source": [
    "comparison_results = pd.DataFrame({\n",
    "    'Algorithm': ['SVM', 'Random Forest', 'KNN'],\n",
    "    'Training Time (seconds)': [svm_training_time, rf_training_time, knn_training_time],\n",
    "    'Accuracy': [svm_accuracy, rf_accuracy, knn_accuracy],\n",
    "    'F1 Score': [svm_f1_score, rf_f1_score, knn_f1_score]\n",
    "})\n",
    "\n",
    "print(comparison_results)"
   ]
  }
 ],
 "metadata": {
  "kernelspec": {
   "display_name": "Python 3",
   "language": "python",
   "name": "python3"
  },
  "language_info": {
   "codemirror_mode": {
    "name": "ipython",
    "version": 3
   },
   "file_extension": ".py",
   "mimetype": "text/x-python",
   "name": "python",
   "nbconvert_exporter": "python",
   "pygments_lexer": "ipython3",
   "version": "3.13.0"
  }
 },
 "nbformat": 4,
 "nbformat_minor": 2
}
