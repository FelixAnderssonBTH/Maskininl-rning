{
 "cells": [
  {
   "cell_type": "code",
   "execution_count": 9,
   "metadata": {},
   "outputs": [],
   "source": [
    "'''Felix Andersson, Janine de Vries, DV2626'''\n",
    "\n",
    "import pandas as pd\n",
    "from sklearn.model_selection import train_test_split, RepeatedKFold, cross_val_score\n",
    "from sklearn.svm import SVC\n",
    "from sklearn.ensemble import RandomForestClassifier\n",
    "from sklearn.neighbors import KNeighborsClassifier\n",
    "from sklearn.metrics import accuracy_score, f1_score\n",
    "import numpy as np\n",
    "import time\n"
   ]
  },
  {
   "cell_type": "code",
   "execution_count": null,
   "metadata": {},
   "outputs": [
    {
     "name": "stdout",
     "output_type": "stream",
     "text": [
      "X:\n",
      "       0  0.64  0.64.1  0.1  0.32   0.2   0.3   0.4   0.5   0.6  ...  0.40  \\\n",
      "0  0.21  0.28    0.50  0.0  0.14  0.28  0.21  0.07  0.00  0.94  ...   0.0   \n",
      "1  0.06  0.00    0.71  0.0  1.23  0.19  0.19  0.12  0.64  0.25  ...   0.0   \n",
      "2  0.00  0.00    0.00  0.0  0.63  0.00  0.31  0.63  0.31  0.63  ...   0.0   \n",
      "3  0.00  0.00    0.00  0.0  0.63  0.00  0.31  0.63  0.31  0.63  ...   0.0   \n",
      "4  0.00  0.00    0.00  0.0  1.85  0.00  0.00  1.85  0.00  0.00  ...   0.0   \n",
      "\n",
      "   0.41   0.42  0.43  0.778   0.44   0.45  3.756   61   278  \n",
      "0  0.00  0.132   0.0  0.372  0.180  0.048  5.114  101  1028  \n",
      "1  0.01  0.143   0.0  0.276  0.184  0.010  9.821  485  2259  \n",
      "2  0.00  0.137   0.0  0.137  0.000  0.000  3.537   40   191  \n",
      "3  0.00  0.135   0.0  0.135  0.000  0.000  3.537   40   191  \n",
      "4  0.00  0.223   0.0  0.000  0.000  0.000  3.000   15    54  \n",
      "\n",
      "[5 rows x 57 columns]\n",
      "Y:\n",
      " 0    1\n",
      "1    1\n",
      "2    1\n",
      "3    1\n",
      "4    1\n",
      "Name: 1, dtype: int64\n"
     ]
    }
   ],
   "source": [
    "spam_data = pd.read_csv('spambase.data', delimiter=',')\n",
    "spam_data.head()\n",
    "spam_data.drop_duplicates(inplace=True)\n",
    "\n",
    "x = spam_data.iloc[:, :-1]\n",
    "y = spam_data.iloc[:, -1]\n",
    "X_train, X_test, y_train, y_test = train_test_split(x, y, test_size=0.2, random_state=42)\n",
    "\n",
    "\n",
    "print(\"X:\\n\", x.head())  \n",
    "print(\"Y:\\n\", y.head())  "
   ]
  },
  {
   "cell_type": "code",
   "execution_count": null,
   "metadata": {},
   "outputs": [
    {
     "name": "stdout",
     "output_type": "stream",
     "text": [
      "SVM Training Time: 0.3051 seconds\n",
      "SVM Accuracy: 0.7067\n",
      "SVM F1 Score: 0.6782\n"
     ]
    }
   ],
   "source": [
    "svm = SVC()\n",
    "\n",
    "start_time = time.time()\n",
    "svm.fit(X_train, y_train)\n",
    "svm_training_time = time.time() - start_time\n",
    "\n",
    "svm_pred = svm.predict(X_test)\n",
    "\n",
    "svm_accuracy = accuracy_score(y_test, svm_pred)\n",
    "svm_f1_score = f1_score(y_test, svm_pred, average='weighted')\n",
    "\n",
    "print(f\"SVM Training Time: {svm_training_time:.4f} seconds\")\n",
    "print(f\"SVM Accuracy: {svm_accuracy:.4f}\")\n",
    "print(f\"SVM F1 Score: {svm_f1_score:.4f}\")"
   ]
  },
  {
   "cell_type": "code",
   "execution_count": null,
   "metadata": {},
   "outputs": [
    {
     "name": "stdout",
     "output_type": "stream",
     "text": [
      "Random Forest Training Time: 0.4508 seconds\n",
      "Random Forest Accuracy: 0.9501\n",
      "Random Forest F1 Score: 0.9499\n"
     ]
    }
   ],
   "source": [
    "rf = RandomForestClassifier()\n",
    "\n",
    "start_time = time.time()\n",
    "rf.fit(X_train, y_train)\n",
    "rf_training_time = time.time() - start_time\n",
    "\n",
    "rf_pred = rf.predict(X_test)\n",
    "\n",
    "rf_accuracy = accuracy_score(y_test, rf_pred)\n",
    "rf_f1_score = f1_score(y_test, rf_pred, average='weighted')\n",
    "\n",
    "print(f\"Random Forest Training Time: {rf_training_time:.4f} seconds\")\n",
    "print(f\"Random Forest Accuracy: {rf_accuracy:.4f}\")\n",
    "print(f\"Random Forest F1 Score: {rf_f1_score:.4f}\")"
   ]
  },
  {
   "cell_type": "code",
   "execution_count": null,
   "metadata": {},
   "outputs": [
    {
     "name": "stdout",
     "output_type": "stream",
     "text": [
      "KNN Training Time: 0.0023 seconds\n",
      "KNN Accuracy: 0.7732\n",
      "KNN F1 Score: 0.7717\n"
     ]
    }
   ],
   "source": [
    "knn = KNeighborsClassifier()\n",
    "\n",
    "start_time = time.time()\n",
    "knn.fit(X_train, y_train)\n",
    "knn_training_time = time.time() - start_time\n",
    "\n",
    "knn_pred = knn.predict(X_test)\n",
    "\n",
    "knn_accuracy = accuracy_score(y_test, knn_pred)\n",
    "knn_f1_score = f1_score(y_test, knn_pred, average='weighted')\n",
    "\n",
    "print(f\"KNN Training Time: {knn_training_time:.4f} seconds\")\n",
    "print(f\"KNN Accuracy: {knn_accuracy:.4f}\")\n",
    "print(f\"KNN F1 Score: {knn_f1_score:.4f}\")"
   ]
  },
  {
   "cell_type": "code",
   "execution_count": 14,
   "metadata": {},
   "outputs": [
    {
     "name": "stdout",
     "output_type": "stream",
     "text": [
      "       Algorithm  Training Time (seconds)  Accuracy  F1 Score\n",
      "0            SVM                 0.305090  0.706651  0.678249\n",
      "1  Random Forest                 0.450766  0.950119  0.949934\n",
      "2            KNN                 0.002342  0.773159  0.771691\n"
     ]
    }
   ],
   "source": [
    "comparison_results = pd.DataFrame({\n",
    "    'Algorithm': ['SVM', 'Random Forest', 'KNN'],\n",
    "    'Training Time (seconds)': [svm_training_time, rf_training_time, knn_training_time],\n",
    "    'Accuracy': [svm_accuracy, rf_accuracy, knn_accuracy],\n",
    "    'F1 Score': [svm_f1_score, rf_f1_score, knn_f1_score]\n",
    "})\n",
    "\n",
    "print(comparison_results)"
   ]
  }
 ],
 "metadata": {
  "kernelspec": {
   "display_name": "Python 3",
   "language": "python",
   "name": "python3"
  },
  "language_info": {
   "codemirror_mode": {
    "name": "ipython",
    "version": 3
   },
   "file_extension": ".py",
   "mimetype": "text/x-python",
   "name": "python",
   "nbconvert_exporter": "python",
   "pygments_lexer": "ipython3",
   "version": "3.13.0"
  }
 },
 "nbformat": 4,
 "nbformat_minor": 2
}
