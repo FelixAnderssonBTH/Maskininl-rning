{
 "cells": [
  {
   "cell_type": "code",
   "execution_count": 17,
   "metadata": {},
   "outputs": [],
   "source": [
    "'''Felix Andersson, Janine de Vries, DV2626'''\n",
    "\n",
    "import pandas as pd\n",
    "from sklearn.model_selection import train_test_split, RepeatedKFold, cross_val_score, StratifiedKFold\n",
    "from sklearn.svm import SVC\n",
    "from sklearn.ensemble import RandomForestClassifier\n",
    "from sklearn.neighbors import KNeighborsClassifier\n",
    "from sklearn.metrics import accuracy_score, f1_score\n",
    "import numpy as np\n",
    "import time"
   ]
  },
  {
   "cell_type": "code",
   "execution_count": 16,
   "metadata": {},
   "outputs": [
    {
     "name": "stdout",
     "output_type": "stream",
     "text": [
      "X:\n",
      "       0  0.64  0.64.1  0.1  0.32   0.2   0.3   0.4   0.5   0.6  ...  0.40  \\\n",
      "0  0.21  0.28    0.50  0.0  0.14  0.28  0.21  0.07  0.00  0.94  ...   0.0   \n",
      "1  0.06  0.00    0.71  0.0  1.23  0.19  0.19  0.12  0.64  0.25  ...   0.0   \n",
      "2  0.00  0.00    0.00  0.0  0.63  0.00  0.31  0.63  0.31  0.63  ...   0.0   \n",
      "3  0.00  0.00    0.00  0.0  0.63  0.00  0.31  0.63  0.31  0.63  ...   0.0   \n",
      "4  0.00  0.00    0.00  0.0  1.85  0.00  0.00  1.85  0.00  0.00  ...   0.0   \n",
      "\n",
      "   0.41   0.42  0.43  0.778   0.44   0.45  3.756   61   278  \n",
      "0  0.00  0.132   0.0  0.372  0.180  0.048  5.114  101  1028  \n",
      "1  0.01  0.143   0.0  0.276  0.184  0.010  9.821  485  2259  \n",
      "2  0.00  0.137   0.0  0.137  0.000  0.000  3.537   40   191  \n",
      "3  0.00  0.135   0.0  0.135  0.000  0.000  3.537   40   191  \n",
      "4  0.00  0.223   0.0  0.000  0.000  0.000  3.000   15    54  \n",
      "\n",
      "[5 rows x 57 columns]\n",
      "Y:\n",
      " 0    1\n",
      "1    1\n",
      "2    1\n",
      "3    1\n",
      "4    1\n",
      "Name: 1, dtype: int64\n"
     ]
    }
   ],
   "source": [
    "spam_data = pd.read_csv('spambase.data', delimiter=',')\n",
    "spam_data.head()\n",
    "spam_data.drop_duplicates(inplace=True)\n",
    "\n",
    "x = spam_data.iloc[:, :-1]\n",
    "y = spam_data.iloc[:, -1]\n",
    "#X_train, X_test, y_train, y_test = train_test_split(x, y, test_size=0.2, random_state=42)\n",
    "\n",
    "\n",
    "print(\"X:\\n\", x.head())  \n",
    "print(\"Y:\\n\", y.head())"
   ]
  },
  {
   "cell_type": "code",
   "execution_count": 23,
   "metadata": {},
   "outputs": [
    {
     "name": "stdout",
     "output_type": "stream",
     "text": [
      "                         SVM Random Forest           KNN\n",
      "Fold/Algorithm                                          \n",
      "Fold 1                0.6580        0.9501        0.7506\n",
      "Fold 2                0.6627        0.9525        0.7648\n",
      "Fold 3                0.7197        0.9264        0.7625\n",
      "Fold 4                0.7648        0.9525        0.8076\n",
      "Fold 5                0.6793        0.9501        0.8005\n",
      "Fold 6                0.6936        0.9572        0.8029\n",
      "Fold 7                0.7530        0.9667        0.7981\n",
      "Fold 8                0.7316        0.9691        0.8242\n",
      "Fold 9                0.7577        0.8812        0.7126\n",
      "Fold 10               0.6667        0.8524        0.7619\n",
      "avg               avg 0.7087    avg 0.9358    avg 0.7786\n",
      "stdev           stdev 0.0396  stdev 0.0368  stdev 0.0320\n"
     ]
    }
   ],
   "source": [
    "classifiers = {\n",
    "    \"SVM\": SVC(),\n",
    "    \"Random Forest\": RandomForestClassifier(),\n",
    "    \"KNN\": KNeighborsClassifier()\n",
    "}\n",
    "\n",
    "# Stratified 10-Fold Cross-Validation\n",
    "results = []\n",
    "fold_column = {name: [] for name in classifiers}\n",
    "\n",
    "skf = StratifiedKFold(n_splits=10)\n",
    "\n",
    "for fold, (train_index, test_index) in enumerate(skf.split(x, y), 1):\n",
    "    X_train, X_test = x.iloc[train_index], x.iloc[test_index]\n",
    "    y_train, y_test = y.iloc[train_index], y.iloc[test_index]\n",
    "\n",
    "    for name, algorithm in classifiers.items():\n",
    "        # Measure training time\n",
    "        start_time = time.time()\n",
    "        algorithm.fit(X_train, y_train)\n",
    "        time_training = time.time() - start_time\n",
    "        \n",
    "        # Make predictions\n",
    "        y_pred = algorithm.predict(X_test)\n",
    "\n",
    "        # Measure accuracy and F1-score\n",
    "        accuracy = accuracy_score(y_test, y_pred)\n",
    "        f1 = f1_score(y_test, y_pred, average='weighted')\n",
    "\n",
    "        # Store fold results\n",
    "        fold_column[name].append(accuracy)\n",
    "\n",
    "# Prepare results in the desired format\n",
    "output = []\n",
    "\n",
    "# Add results for each fold\n",
    "for fold_num in range(10):\n",
    "    fold_data = []\n",
    "    for name, scores in fold_column.items():\n",
    "        fold_data.append(f\"{scores[fold_num]:.4f}\")  # Format accuracy to 4 decimals\n",
    "    output.append(fold_data)\n",
    "\n",
    "# Calculate average and std deviation\n",
    "avg_and_std = []\n",
    "for name, scores in fold_column.items():\n",
    "    avg_accuracy = np.mean(scores)\n",
    "    std_accuracy = np.std(scores)\n",
    "    avg_and_std.append([f\"{avg_accuracy:.4f}\", f\"{std_accuracy:.4f}\"])\n",
    "\n",
    "# Add avg and stdev to the output\n",
    "output.append([f\"avg {item[0]}\" for item in avg_and_std])\n",
    "output.append([f\"stdev {item[1]}\" for item in avg_and_std])\n",
    "\n",
    "# Convert output to DataFrame for presentation\n",
    "fold_df = pd.DataFrame(output, columns=list(classifiers.keys()))\n",
    "fold_df.index = [f\"Fold {i}\" for i in range(1, 11)] + ['avg', 'stdev']\n",
    "fold_df.index.name = 'Fold/Algorithm'\n",
    "\n",
    "# Display the results\n",
    "print(fold_df)\n"
   ]
  }
 ],
 "metadata": {
  "kernelspec": {
   "display_name": "Python 3",
   "language": "python",
   "name": "python3"
  },
  "language_info": {
   "codemirror_mode": {
    "name": "ipython",
    "version": 3
   },
   "file_extension": ".py",
   "mimetype": "text/x-python",
   "name": "python",
   "nbconvert_exporter": "python",
   "pygments_lexer": "ipython3",
   "version": "3.9.13"
  }
 },
 "nbformat": 4,
 "nbformat_minor": 2
}
